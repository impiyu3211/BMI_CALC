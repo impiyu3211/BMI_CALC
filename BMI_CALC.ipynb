{
  "nbformat": 4,
  "nbformat_minor": 0,
  "metadata": {
    "colab": {
      "provenance": [],
      "authorship_tag": "ABX9TyMN/G7N0IMRlW2cHDaYq+OJ",
      "include_colab_link": true
    },
    "kernelspec": {
      "name": "python3",
      "display_name": "Python 3"
    },
    "language_info": {
      "name": "python"
    }
  },
  "cells": [
    {
      "cell_type": "markdown",
      "metadata": {
        "id": "view-in-github",
        "colab_type": "text"
      },
      "source": [
        "<a href=\"https://colab.research.google.com/github/impiyu3211/BMI_CALC/blob/main/BMI_CALC.ipynb\" target=\"_parent\"><img src=\"https://colab.research.google.com/assets/colab-badge.svg\" alt=\"Open In Colab\"/></a>"
      ]
    },
    {
      "cell_type": "code",
      "execution_count": 1,
      "metadata": {
        "colab": {
          "base_uri": "https://localhost:8080/"
        },
        "id": "bmfppq8CCHb6",
        "outputId": "fdc0d9f6-2c0f-44c2-b179-55b145f0685d"
      },
      "outputs": [
        {
          "output_type": "stream",
          "name": "stdout",
          "text": [
            "Welcome to the BMI Calculator\n",
            "Enter your weight in kilograms (kg): 56\n",
            "Enter your height in meters (m): 1.34\n",
            "\n",
            "Your BMI is: 31.19\n",
            "Category: Obese\n"
          ]
        }
      ],
      "source": [
        "def calculate_bmi(weight, height):\n",
        "    bmi = weight / (height ** 2)\n",
        "    return bmi\n",
        "\n",
        "def main():\n",
        "    print(\"Welcome to the BMI Calculator\")\n",
        "\n",
        "    try:\n",
        "        weight = float(input(\"Enter your weight in kilograms (kg): \"))\n",
        "        height = float(input(\"Enter your height in meters (m): \"))\n",
        "\n",
        "        bmi = calculate_bmi(weight, height)\n",
        "        print(f\"\\nYour BMI is: {bmi:.2f}\")\n",
        "\n",
        "        # Category classification\n",
        "        if bmi < 18.5:\n",
        "            print(\"Category: Underweight\")\n",
        "        elif 18.5 <= bmi < 24.9:\n",
        "            print(\"Category: Normal weight\")\n",
        "        elif 25 <= bmi < 29.9:\n",
        "            print(\"Category: Overweight\")\n",
        "        else:\n",
        "            print(\"Category: Obese\")\n",
        "\n",
        "    except ValueError:\n",
        "        print(\"Please enter valid numbers for weight and height.\")\n",
        "\n",
        "if __name__ == \"__main__\":\n",
        "    main()\n",
        "\n"
      ]
    }
  ]
}